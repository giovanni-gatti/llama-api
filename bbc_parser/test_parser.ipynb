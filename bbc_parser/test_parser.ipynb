{
 "cells": [
  {
   "cell_type": "code",
   "execution_count": 31,
   "metadata": {},
   "outputs": [],
   "source": [
    "import requests\n",
    "from bs4 import BeautifulSoup as bs \n",
    "from typing import Tuple, List\n",
    "import re"
   ]
  },
  {
   "cell_type": "code",
   "execution_count": 32,
   "metadata": {},
   "outputs": [],
   "source": [
    "MAIN_PAGE_URL = \"https://www.bbc.com/news\"\n",
    "WEBSITE_URL = \"https://www.bbc.com\""
   ]
  },
  {
   "cell_type": "code",
   "execution_count": 33,
   "metadata": {},
   "outputs": [],
   "source": [
    "def get_text_from_article(url:str) -> str:\n",
    "    \"\"\"Parse bbc article and return text in list of strings\"\"\"\n",
    "    article = requests.get(url)\n",
    "    soup = bs(article.content, \"html.parser\")\n",
    "    body = soup.find_all(\"div\", {'data-component': 'text-block'})\n",
    "    text = [p.text for p in body] \n",
    "    text = \"\".join(text)\n",
    "    return text"
   ]
  },
  {
   "cell_type": "code",
   "execution_count": 34,
   "metadata": {},
   "outputs": [],
   "source": [
    "def get_link_name_pairs_articles_from_main_page() -> List[Tuple[str, str]]:\n",
    "    \"\"\"Parses the news articles available on the main page\"\"\"\n",
    "    pattern = re.compile(r'^gs-c-promo-heading')\n",
    "    page = requests.get(MAIN_PAGE_URL)\n",
    "    soup = bs(page.content, \"html.parser\")\n",
    "    tags = soup.find_all('a',class_ = pattern)\n",
    "    result = []\n",
    "    for tag in tags:\n",
    "        if tag and tag.find('h3') and tag.get('href') and \"news\" in tag.get('href'):\n",
    "            result.append((tag.find('h3').get_text(),tag.get('href')))\n",
    "    \n",
    "    return result\n",
    "    "
   ]
  },
  {
   "cell_type": "code",
   "execution_count": 35,
   "metadata": {},
   "outputs": [],
   "source": [
    "def get_link_name_pairs_articles_from_category_page(url: str) -> List[Tuple[str, str]]:\n",
    "    \"\"\"Parse the news articles available for a specific category\"\"\"\n",
    "    page = requests.get(url)\n",
    "    soup = bs(page.content, \"html.parser\")\n",
    "    tags = soup.find_all('div', {\"type\" : \"article\"})\n",
    "    result = []\n",
    "    for tag in tags:\n",
    "        result.append((tag.find('a').get_text(),tag.find('a').get('href')))\n",
    "    return result"
   ]
  },
  {
   "cell_type": "code",
   "execution_count": 36,
   "metadata": {},
   "outputs": [
    {
     "data": {
      "text/plain": [
       "[('China to increase curbs on video gaming industry',\n",
       "  '/news/technology-67801091'),\n",
       " ('High-speed train company Hyperloop One shuts down',\n",
       "  '/news/technology-67801235'),\n",
       " ('Spider-Man 2 maker angered by massive hack', '/news/newsbeat-67805736'),\n",
       " (\"The mystery of Boris Johnson's disappearing WhatsApps\",\n",
       "  '/news/technology-67780595'),\n",
       " ('Social media platform X suffers global outages', '/news/business-67783058'),\n",
       " ('Porn viewers in EU may have to prove their age',\n",
       "  '/news/technology-67771794'),\n",
       " ('End of an era for electronics giant Toshiba', '/news/business-67757333'),\n",
       " ('Nasa beams cat video from deep space with laser',\n",
       "  '/news/technology-67721671'),\n",
       " ('Amazon to make Warhammer 40,000 shows and movies',\n",
       "  '/news/business-67753779'),\n",
       " ('AI cannot patent inventions, UK Supreme Court says',\n",
       "  '/news/technology-67772177'),\n",
       " ('Founder of EV start-up Nikola sentenced for fraud',\n",
       "  '/news/business-67752125'),\n",
       " ('EU takes action against X over disinformation',\n",
       "  '/news/technology-67749228'),\n",
       " (\"'We want to let people know before floods hit them'\",\n",
       "  '/news/business-67748255'),\n",
       " (\"Why LEDs haven't yet cut energy use for lighting\",\n",
       "  '/news/business-67454472'),\n",
       " ('The quest to find healthy and cheap sweeteners', '/news/business-67448897'),\n",
       " ('Name that whale! How AI aces animal spotting', '/news/business-67649177'),\n",
       " ('Could there be a gold rush for buried hydrogen?',\n",
       "  '/news/business-67541581'),\n",
       " ('07:22 25 DecemberWhat were people Googling in England this year?, published at 07:22 25 DecemberWhat were people Googling in England this year?',\n",
       "  '/news/uk-england-67718159'),\n",
       " ('08:59 24 DecemberMeet the Twitch streamers tackling Christmas loneliness, published at 08:59 24 DecemberMeet the Twitch streamers tackling Christmas loneliness',\n",
       "  '/news/newsbeat-67719402'),\n",
       " (\"07:56 24 DecemberCall for more action on 'pernicious' romance fraud, published at 07:56 24 DecemberCall for more action on 'pernicious' romance fraud\",\n",
       "  '/news/uk-politics-67779466'),\n",
       " ('23:55 22 DecemberWhy there are so many Bollywood deepfakes, published at 23:55 22 DecemberWhy there are so many Bollywood deepfakes',\n",
       "  '/news/entertainment-arts-67726019'),\n",
       " (\"23:10 22 December'We want to let people know before floods hit them', published at 23:10 22 December'We want to let people know before floods hit them'\",\n",
       "  '/news/business-67748255'),\n",
       " ('18:50 22 DecemberPornhub owner to pay $1.8m in sex trafficking case, published at 18:50 22 DecemberPornhub owner to pay $1.8m in sex trafficking case',\n",
       "  '/news/technology-67804156'),\n",
       " ('17:15 22 DecemberSpider-Man 2 maker angered by massive hack, published at 17:15 22 DecemberSpider-Man 2 maker angered by massive hack',\n",
       "  '/news/newsbeat-67805736'),\n",
       " ('16:46 22 DecemberThe ex-Premier League footballer who loves Lego, published at 16:46 22 DecemberThe ex-Premier League footballer who loves Lego',\n",
       "  '/news/uk-england-suffolk-67788617'),\n",
       " ('13:16 22 DecemberChina to increase curbs on video gaming industry, published at 13:16 22 DecemberChina to increase curbs on video gaming industry',\n",
       "  '/news/technology-67801091'),\n",
       " ('13:15 22 DecemberHigh-speed train company Hyperloop One shuts down, published at 13:15 22 DecemberHigh-speed train company Hyperloop One shuts down',\n",
       "  '/news/technology-67801235'),\n",
       " ('02:27 22 DecemberTech Trends 2024: AI and electric vehicle deals, published at 02:27 22 DecemberTech Trends 2024: AI and electric vehicle deals',\n",
       "  '/news/business-67273155'),\n",
       " ('01:20 22 DecemberFalse claims of staged deaths surge in Israel-Gaza war, published at 01:20 22 DecemberFalse claims of staged deaths surge in Israel-Gaza war',\n",
       "  '/news/world-middle-east-67760523'),\n",
       " ('20:09 21 DecemberDutch court cuts jail term for fatal cyber-stalking, published at 20:09 21 DecemberDutch court cuts jail term for fatal cyber-stalking',\n",
       "  '/news/world-europe-67787843'),\n",
       " ('16:48 21 DecemberGTA 6 hacker sentenced to indefinite hospital order, published at 16:48 21 DecemberGTA 6 hacker sentenced to indefinite hospital order',\n",
       "  '/news/technology-67663128'),\n",
       " ('16:33 21 DecemberBrighton becoming major player in gaming industry, published at 16:33 21 DecemberBrighton becoming major player in gaming industry',\n",
       "  '/news/uk-england-sussex-67787485'),\n",
       " (\"10:09 21 DecemberThe mystery of Boris Johnson's disappearing WhatsApps, published at 10:09 21 DecemberThe mystery of Boris Johnson's disappearing WhatsApps\",\n",
       "  '/news/technology-67780595'),\n",
       " ('08:45 21 DecemberFears UK not ready for deepfake general election, published at 08:45 21 DecemberFears UK not ready for deepfake general election',\n",
       "  '/news/uk-politics-67518511'),\n",
       " ('07:20 21 DecemberSocial media platform X suffers global outages, published at 07:20 21 DecemberSocial media platform X suffers global outages',\n",
       "  '/news/business-67783058'),\n",
       " ('19:25 20 DecemberAI cannot patent inventions, UK Supreme Court says, published at 19:25 20 DecemberAI cannot patent inventions, UK Supreme Court says',\n",
       "  '/news/technology-67772177'),\n",
       " ('17:11 20 DecemberDeer on train tracks could be saved by AI, published at 17:11 20 DecemberDeer on train tracks could be saved by AI',\n",
       "  '/news/uk-england-cambridgeshire-67778960'),\n",
       " ('15:39 20 DecemberPorn viewers in EU may have to prove their age, published at 15:39 20 DecemberPorn viewers in EU may have to prove their age',\n",
       "  '/news/technology-67771794'),\n",
       " ('11:18 20 DecemberPolice force ordered to clear huge FOI backlog, published at 11:18 20 DecemberPolice force ordered to clear huge FOI backlog',\n",
       "  '/news/uk-england-manchester-67769770')]"
      ]
     },
     "execution_count": 36,
     "metadata": {},
     "output_type": "execute_result"
    }
   ],
   "source": [
    "get_link_name_pairs_articles_from_category_page(\"https://bbc.com/news/technology\")"
   ]
  },
  {
   "cell_type": "code",
   "execution_count": 37,
   "metadata": {},
   "outputs": [],
   "source": [
    "def get_link_name_pairs_categories() -> List[Tuple[str,str]]:\n",
    "    \"\"\"Retreives the categories of the news available on BBC and the corresponding path\"\"\"\n",
    "    main_page = requests.get(MAIN_PAGE_URL)\n",
    "\n",
    "    soup = bs(main_page.content, \"html.parser\")\n",
    "    first_tag = soup.find('div', class_ = 'gs-u-display-none gs-u-display-block@m nw-o-news-wide-navigation')\n",
    "    tags = first_tag.find_all('a', class_ = 'nw-o-link')\n",
    "    result = [(tag.get_text(), tag.get('href')) for tag in tags if tag and tag.get_text() and tag.get('href')]\n",
    "    return result[1::]# skipping the first element since it represents the main page"
   ]
  },
  {
   "cell_type": "code",
   "execution_count": 38,
   "metadata": {},
   "outputs": [],
   "source": [
    "categories = get_link_name_pairs_categories()"
   ]
  },
  {
   "cell_type": "code",
   "execution_count": 40,
   "metadata": {},
   "outputs": [
    {
     "data": {
      "text/plain": [
       "[('Israel-Gaza war', '/news/topics/c2vdnvdg6xxt'),\n",
       " ('War in Ukraine', '/news/world-60525350'),\n",
       " ('Climate', '/news/topics/cmj34zmwm1zt'),\n",
       " ('Video', '/news/av/10462520'),\n",
       " ('World', '/news/world'),\n",
       " ('UK', '/news/uk'),\n",
       " ('Business', '/news/business'),\n",
       " ('Tech', '/news/technology'),\n",
       " ('Science', '/news/science_and_environment'),\n",
       " ('Entertainment & Arts', '/news/entertainment_and_arts'),\n",
       " ('Health', '/news/health'),\n",
       " ('World News TV', '/news/world_radio_and_tv'),\n",
       " ('In Pictures', '/news/in_pictures'),\n",
       " ('BBC Verify', '/news/reality_check'),\n",
       " ('Newsbeat', '/news/newsbeat')]"
      ]
     },
     "execution_count": 40,
     "metadata": {},
     "output_type": "execute_result"
    }
   ],
   "source": [
    "categories"
   ]
  },
  {
   "cell_type": "code",
   "execution_count": 44,
   "metadata": {},
   "outputs": [
    {
     "data": {
      "text/plain": [
       "('https://www.bbc.com/news/world-60525350', 'War in Ukraine')"
      ]
     },
     "execution_count": 44,
     "metadata": {},
     "output_type": "execute_result"
    }
   ],
   "source": [
    "link =  WEBSITE_URL + categories[1][1]\n",
    "link, categories[1][0]"
   ]
  },
  {
   "cell_type": "code",
   "execution_count": 47,
   "metadata": {},
   "outputs": [
    {
     "data": {
      "text/plain": [
       "[('Russia confirms damage to warship in Black Sea',\n",
       "  '/news/world-europe-67821515'),\n",
       " ('Ukraine denies Russian capture of town near Donetsk',\n",
       "  '/news/world-europe-67820916'),\n",
       " ('The Ukrainian frontline city Russia could seize again',\n",
       "  '/news/world-europe-67801203'),\n",
       " ('Ukraine celebrates first Christmas on 25 December',\n",
       "  '/news/world-europe-67816987'),\n",
       " ('Ukraine says it downed three Russian warplanes',\n",
       "  '/news/world-europe-67809239'),\n",
       " (\"Ukraine's new Christmas is more than just a date\",\n",
       "  '/news/world-europe-67801204'),\n",
       " ('The Ukrainians back at home this Christmas', '/news/newsbeat-67753427'),\n",
       " ('War in maps: Ukraine and Russia trade front line blows',\n",
       "  '/news/world-europe-60506682'),\n",
       " ('How Zelensky yachts fable influenced US aid debate',\n",
       "  '/news/world-us-canada-67766964'),\n",
       " ('Can Ukraine recover its occupied territory? Our teams answer your questions',\n",
       "  '/news/live/world-middle-east-67751758'),\n",
       " ('Putin tells Russia his war objectives are unchanged',\n",
       "  '/news/world-europe-67711802'),\n",
       " (\"Ukraine's hopes of rebuilding rely on fighting corruption\",\n",
       "  '/news/world-europe-67759784'),\n",
       " ('Call for male citizens abroad to join Ukraine army',\n",
       "  '/news/world-europe-67787173'),\n",
       " ('Ukraine cuts military operations as aid dries up',\n",
       "  '/news/world-europe-67748813'),\n",
       " (\"'Denied medicine until they take a Russian passport'\",\n",
       "  '/news/world-europe-67427840'),\n",
       " ('The children forced from home by Russian attacks',\n",
       "  '/news/world-europe-67277203'),\n",
       " ('12:35Russia confirms damage to warship in Black Sea, published at 12:35Russia confirms damage to warship in Black Sea',\n",
       "  '/news/world-europe-67821515'),\n",
       " ('11:37Ukraine denies Russian capture of town near Donetsk, published at 11:37Ukraine denies Russian capture of town near Donetsk',\n",
       "  '/news/world-europe-67820916'),\n",
       " ('12:58 25 DecemberThe Ukrainian frontline city Russia could seize again, published at 12:58 25 DecemberThe Ukrainian frontline city Russia could seize again',\n",
       "  '/news/world-europe-67801203'),\n",
       " ('00:06 25 DecemberUkraine celebrates first Christmas on 25 December, published at 00:06 25 DecemberUkraine celebrates first Christmas on 25 December',\n",
       "  '/news/world-europe-67816987'),\n",
       " (\"09:41 24 December'I am scared but I can't miss another Christmas', published at 09:41 24 December'I am scared but I can't miss another Christmas'\",\n",
       "  '/news/uk-england-derbyshire-67779680'),\n",
       " (\"08:58 24 DecemberUkrainian mum 'forever grateful' to NHS over birth, published at 08:58 24 DecemberUkrainian mum 'forever grateful' to NHS over birth\",\n",
       "  '/news/uk-england-cumbria-67786521'),\n",
       " ('02:09 24 DecemberThe Ukrainian triplets born into war, published at 02:09 24 DecemberThe Ukrainian triplets born into war',\n",
       "  '/news/world-europe-67716987'),\n",
       " ('18:16 23 DecemberSending 4x4s to Ukraine needs rule change - mayor, published at 18:16 23 DecemberSending 4x4s to Ukraine needs rule change - mayor',\n",
       "  '/news/uk-england-london-67810726'),\n",
       " ('02:00 23 DecemberUkraine says it downed three Russian warplanes, published at 02:00 23 DecemberUkraine says it downed three Russian warplanes',\n",
       "  '/news/world-europe-67809239'),\n",
       " (\"00:07 23 DecemberUkraine's new Christmas is more than just a date, published at 00:07 23 DecemberUkraine's new Christmas is more than just a date\",\n",
       "  '/news/world-europe-67801204'),\n",
       " ('10:26 22 DecemberJapan to send Patriot missiles to US which may aid Ukraine, published at 10:26 22 DecemberJapan to send Patriot missiles to US which may aid Ukraine',\n",
       "  '/news/world-asia-67798740'),\n",
       " ('02:12 22 DecemberThe Ukrainians back at home this Christmas, published at 02:12 22 DecemberThe Ukrainians back at home this Christmas',\n",
       "  '/news/newsbeat-67753427'),\n",
       " ('15:43 21 DecemberAngola leaves Opec oil cartel in output quota row, published at 15:43 21 DecemberAngola leaves Opec oil cartel in output quota row',\n",
       "  '/news/world-africa-67793369'),\n",
       " ('15:14 21 DecemberUkraine calls on male citizens abroad to join army, published at 15:14 21 DecemberUkraine calls on male citizens abroad to join army',\n",
       "  '/news/world-europe-67787173'),\n",
       " (\"03:44 21 DecemberUkraine's hopes of rebuilding rely on fighting corruption, published at 03:44 21 DecemberUkraine's hopes of rebuilding rely on fighting corruption\",\n",
       "  '/news/world-europe-67759784'),\n",
       " ('21:53 20 DecemberHow Zelensky yachts fable influenced US aid debate, published at 21:53 20 DecemberHow Zelensky yachts fable influenced US aid debate',\n",
       "  '/news/world-us-canada-67766964'),\n",
       " ('18:25 20 DecemberWar in maps: Ukraine and Russia trade front line blows, published at 18:25 20 DecemberWar in maps: Ukraine and Russia trade front line blows',\n",
       "  '/news/world-europe-60506682'),\n",
       " ('06:20 20 DecemberResearchers find contaminated farmland in Ukraine, published at 06:20 20 DecemberResearchers find contaminated farmland in Ukraine',\n",
       "  '/news/uk-england-gloucestershire-67738569'),\n",
       " ('06:00 20 DecemberUS citizens jailed by Putin left hostage to a deal, published at 06:00 20 DecemberUS citizens jailed by Putin left hostage to a deal',\n",
       "  '/news/world-europe-67763799'),\n",
       " ('21:52 19 DecemberUkraine seeks extra 500,000 soldiers - Zelensky, published at 21:52 19 DecemberUkraine seeks extra 500,000 soldiers - Zelensky',\n",
       "  '/news/world-europe-67767246')]"
      ]
     },
     "execution_count": 47,
     "metadata": {},
     "output_type": "execute_result"
    }
   ],
   "source": [
    "articles = get_link_name_pairs_articles_from_category_page(link)\n",
    "articles"
   ]
  },
  {
   "cell_type": "code",
   "execution_count": 58,
   "metadata": {},
   "outputs": [
    {
     "data": {
      "text/plain": [
       "('Russia confirms damage to warship in Black Sea',\n",
       " 'Russia has confirmed one of its warships has been damaged in a Ukrainian attack on a Black Sea port.The airstrike took place at Feodosiya in Russian-occupied Crimea early on Tuesday morning. Russia\\'s Ministry of Defence said the large landing ship Novocherkassk was struck by Ukrainian aircraft carrying guided missiles.The head of the Ukrainian Air Force said earlier its warplanes had destroyed the ship. One person was killed in the attack, according to the Russian-installed head of Crimea, Sergei Aksyonov. Several others were reportedly hurt. Six buildings were damaged and a small number of people had to be taken to temporary accommodation centres, Mr Aksyonov added.The port\\'s transport operations are said to be functioning as normal after the area was cordoned off, while a fire caused by the attack was contained.Footage purportedly showing a huge explosion in the port was shared by Ukrainian air force commander Lt Gen Mykola Oleshchuk.The images have not been independently verified. However, satellite imagery from 24 December shows a ship at port in Feodosiya that appears to be the same length as the Novocherkassk - a landing ship designed to transport troops, weapons and cargo to shore.Any significant damage to the ship will be a welcome bit of good news for Ukraine, with waning Western support now affecting its front-line operations. Given that the Novocherkassk was in dock, it is highly likely it was being loaded with soldiers, equipment or both.Taking it out of action, even if only temporarily, will no doubt hamper Russia\\'s ability to supply troops in territory it occupies further north. What is less clear is how long its operations will be disrupted for and what impact this strike will have on the front lines. Meanwhile, a spokesman for Ukraine\\'s air force has denied that Russia shot down two of its Su-24 bombers about 125km (77 miles) from the occupied Ukrainian city of Mykolaiv. It has also recently denied a claim by Russian Defence Minister Sergei Shoigu that his troops have seized the key town of Mariinka in eastern Ukraine.The area has been used by Ukraine as a defensive barrier since 2014, when Russian-backed fighters seized large swathes of the Donetsk and Luhansk regions.Tuesday\\'s attack on Feodosiya is not the first time that the Novocherkassk has been targeted by Ukrainian forces.In March 2022, Ukraine\\'s defence ministry reported that the ship had been damaged in an attack on the occupied Ukrainian port of Berdyansk in which another amphibious assault ship, the Saratov, was sunk.In a post on Telegram, Lt Gen Oleshchuk wrote that the Novocherkassk had gone the way of the Moskva - the flagship of Russia\\'s Black Sea Fleet, which sank in the Black Sea last year.Ukrainian President Volodymyr Zelensky quipped that he was \"grateful\" to the country\\'s air force \"for the impressive replenishment of the Russian submarine Black Sea fleet with another vessel,\" in reference to other Russian ships that have been sunk during the war.\"The occupiers will not have a single peaceful place in Ukraine,\" he said. Russia seized and annexed the Crimean Peninsula from Ukraine in 2014 and its forces based there played a key part in the full-scale invasion of Ukraine in February 2022. Russian forces in Crimea have since come under repeated Ukrainian attack. Last month, Ukraine\\'s military said it had destroyed 15 Russian navy ships and damaged another 12 in the Black Sea since the start of Russia\\'s war.After a missile strike on the headquarters of the Black Sea fleet in Sevastopol last September, satellite images showed that the Russian navy had moved much of its Black Sea fleet away from Crimea to the Russian Black Sea port of Novorossiysk.The dominance of the Russian navy has been diminished to an extent as result of such attacks, but this year has seen Moscow keep hold of the territory it occupies, despite a Ukrainian counteroffensive. ')"
      ]
     },
     "execution_count": 58,
     "metadata": {},
     "output_type": "execute_result"
    }
   ],
   "source": [
    "articles[0][0], get_text_from_article(WEBSITE_URL + articles[0][1])"
   ]
  },
  {
   "cell_type": "code",
   "execution_count": null,
   "metadata": {},
   "outputs": [],
   "source": [
    "example = \"sdfjo\\'s\"\n",
    "a = example.replace(\"\\\\'s\",\"'s\")"
   ]
  },
  {
   "cell_type": "code",
   "execution_count": 8,
   "metadata": {},
   "outputs": [
    {
     "name": "stdout",
     "output_type": "stream",
     "text": [
      "Articles for the following category: Israel-Gaza war https://www.bbc.com/news/topics/c2vdnvdg6xxt\n"
     ]
    },
    {
     "data": {
      "text/plain": [
       "[('Russia confirms damage to warship in Black Sea',\n",
       "  '/news/world-europe-67821515'),\n",
       " ('UN says no let-up in Israeli air strikes in Gaza',\n",
       "  '/news/world-middle-east-67820866'),\n",
       " ('Plane held over trafficking fears lands in India',\n",
       "  '/news/world-europe-67820072'),\n",
       " ('Five bodies found in France - police look for father',\n",
       "  '/news/world-europe-67821163'),\n",
       " (\"Hanif Kureishi: I've become a reluctant dictator\",\n",
       "  '/news/entertainment-arts-67787423'),\n",
       " ('15 celebrity flops and fails of 2023', '/news/entertainment-arts-64315561'),\n",
       " ('Ukraine denies Russian capture of town near Donetsk',\n",
       "  '/news/world-europe-67820916'),\n",
       " ('Girl, 7, with brain tumour meets Queen for tea', '/news/uk-67820876'),\n",
       " ('Afghans marry in mass ceremony in bid to cut costs',\n",
       "  '/news/world-asia-67821162'),\n",
       " ('Russian opposition leader Navalny found, says team',\n",
       "  '/news/world-europe-67820068'),\n",
       " ('UK has official white Christmas despite mild temperatures',\n",
       "  '/news/uk-scotland-67815533'),\n",
       " ('Russian opposition leader Navalny found, says team',\n",
       "  '/news/world-europe-67820068'),\n",
       " ('UK has official white Christmas despite mild temperatures',\n",
       "  '/news/uk-scotland-67815533'),\n",
       " (\"King Charles's Christmas speech focuses on shared values\",\n",
       "  '/news/uk-67819758'),\n",
       " ('Air strike kills Iranian commander in Syria',\n",
       "  '/news/world-middle-east-67820538'),\n",
       " (\"Migrant caravan heads for US in 'exodus from poverty'\",\n",
       "  '/news/world-latin-america-67818686'),\n",
       " ('Letters of forbidden love revealed in Spanish archive',\n",
       "  '/news/world-africa-67630044'),\n",
       " ('BBC World News TV', '/news/world_radio_and_tv'),\n",
       " (\"India's power-hitting global women's cricket star\",\n",
       "  '/news/world-asia-india-67757630'),\n",
       " (\"Amazon drought: 'We've never seen anything like this'\",\n",
       "  '/news/world-latin-america-67751685'),\n",
       " (\"'I went into 'dad mode' after my wife was killed'\",\n",
       "  '/news/uk-england-suffolk-67773385'),\n",
       " ('The Ukrainian frontline city Russia could seize again',\n",
       "  '/news/world-europe-67801203'),\n",
       " ('Nigeria’s viral ballet boy dances into elite school',\n",
       "  '/news/world-africa-67819857'),\n",
       " (\"A tour round the world's Christmas lights\", '/news/world-europe-67781302'),\n",
       " ('William and Kate share new photo of their children', '/news/uk-67819578'),\n",
       " ('Welsh landscape perfect for Doctor Who, says Gatwa',\n",
       "  '/news/uk-wales-67705354'),\n",
       " ('Bethlehem nativity scene shown with rubble and wire',\n",
       "  '/news/world-middle-east-67813844'),\n",
       " ('Ukraine says it downed three Russian warplanes',\n",
       "  '/news/world-europe-67809239'),\n",
       " (\"Does flying island doctor have world's best job?\",\n",
       "  '/news/uk-wales-67344580'),\n",
       " ('Paramedics found guilty in death of Elijah McClain',\n",
       "  '/news/world-us-canada-67809823'),\n",
       " ('Netanyahu vows to intensify Gaza campaign',\n",
       "  '/news/world-middle-east-67819122'),\n",
       " (\"'Bethlehem is empty of joy - no Santa, no celebration'\",\n",
       "  '/news/world-middle-east-67815370'),\n",
       " ('US hostage Gadi Haggai dead in Gaza, White House says',\n",
       "  '/news/world-us-canada-67805819'),\n",
       " ('Hamas says no more hostage releases until war ends',\n",
       "  '/news/world-middle-east-67797747'),\n",
       " (\"'I walked my kids past rotting corpses'\",\n",
       "  '/news/world-middle-east-67635735')]"
      ]
     },
     "execution_count": 8,
     "metadata": {},
     "output_type": "execute_result"
    }
   ],
   "source": [
    "categories = get_link_name_pairs_categories()\n",
    "category_name, category_path = categories[0]\n",
    "print('Articles for the following category:', category_name, WEBSITE_URL + category_path)\n",
    "get_link_name_pairs_articles_from_main_page()"
   ]
  }
 ],
 "metadata": {
  "kernelspec": {
   "display_name": "Python 3",
   "language": "python",
   "name": "python3"
  },
  "language_info": {
   "codemirror_mode": {
    "name": "ipython",
    "version": 3
   },
   "file_extension": ".py",
   "mimetype": "text/x-python",
   "name": "python",
   "nbconvert_exporter": "python",
   "pygments_lexer": "ipython3",
   "version": "3.9.6"
  }
 },
 "nbformat": 4,
 "nbformat_minor": 2
}
